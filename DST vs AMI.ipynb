{
 "cells": [
  {
   "cell_type": "markdown",
   "metadata": {},
   "source": [
    "# Bayesian analysis of the effects of Daylight Savings Time (DST) adjustment on the incidence rate of Acute Myocardinal Infarction (AMI)"
   ]
  },
  {
   "cell_type": "markdown",
   "metadata": {},
   "source": [
    "## Papers analyzed and to be analyzed\n",
    "\n",
    "Papers on the effects of DST adjustment on acute myocardial infarction (AMI) count during the following week.\n",
    "\n",
    "Sandhu et al. (2014) _Daylight savings time and myocardial infarction_. Open Heart. [link](https://www.ncbi.nlm.nih.gov/pmc/articles/PMC4189320/)\n",
    "\n",
    "\n",
    "Manfredini et al. (2019) _Daylight Saving Time and Acute Myocardial Infarction: A Meta-Analysis_. Journal of Clinical Medicine [link](https://www.ncbi.nlm.nih.gov/pmc/articles/PMC6463000/)"
   ]
  },
  {
   "cell_type": "markdown",
   "metadata": {},
   "source": [
    "## Sandhu et al. (2014)"
   ]
  },
  {
   "cell_type": "markdown",
   "metadata": {},
   "source": [
    "Timeline: 1 January 2010 – 15 September 2013 (3 fall and 4 spring DST changes)\n",
    "\n",
    "> Procedural data for hospital admissions where PCI was performed in the setting of AMI between 1 January 2010 and 15 September 2013 were included in this analysis.\n",
    "\n",
    "> In this study, 42 060 hospital admissions for AMI requiring PCI occurred during the study period. Figure 1A provides a plot of the daily PCIs performed for AMI over 1354 days included in the study period. The median daily AMI total was 31, ranging from a minimum of 14 to a maximum of 53 admissions."
   ]
  },
  {
   "cell_type": "markdown",
   "metadata": {},
   "source": [
    "**Results**\n",
    "\n",
    "> There was no difference in the total weekly number of PCIs performed for AMI for either the fall or spring time changes in the time period analysed. After adjustment for trend and seasonal effects, the Monday following spring time changes was associated with a 24% increase in daily AMI counts (p=0.011), and the Tuesday following fall changes was conversely associated with a 21% reduction (p=0.044). No other weekdays in the weeks following DST changes demonstrated significant associations."
   ]
  },
  {
   "cell_type": "markdown",
   "metadata": {},
   "source": [
    "## Null hypothesis\n",
    "\n",
    "The null hypothesis assumes the observed data on day $i$ (with $i = 1,\\,\\ldots,\\,5$ for Monday, $\\ldots$, Friday) is sampled from a Poisson distribution with parameter $\\lambda_i$, with independent distributions for the 5 days. The likelihood of observed count $o_i$ is on day $i$ is\n",
    "\n",
    "$$\\mathbb P[o_i \\text{ AMIs on day } i\\ |\\ H_0] =\n",
    "e^{-\\lambda_i} \\frac{\\lambda_i^{o_i}}{o_i!},$$\n",
    "\n",
    "so the likelihood of all of the data under the null hypothesis is equal to the following:\n",
    "\n",
    "$$\\mathbb P[D | H_0] = \\prod_{i=1}^5 \\mathbb P[o_i \\text{ AMIs on day } i\\ |\\ H_0] =\n",
    "\\prod_{i=1}^5 e^{-\\lambda_i} \\frac{\\lambda_i^{o_i}}{o_i!}.$$"
   ]
  },
  {
   "cell_type": "markdown",
   "metadata": {},
   "source": [
    "## Alternative hypotheses\n",
    "\n",
    "We define two alternative hypotheses: $H_1$ is that on the Monday following DST adjustment, more AMIs happen than on a regular day. Under $H_2$, the expected AMI counts increase on all days from Monday until Friday.  But by how much, specifically?\n",
    "\n",
    "Note that the original paper did not make such estimations, because [null hypothesis significance tests](https://en.wikipedia.org/wiki/Student's_t-test#One-sample_t-test) do not require evaluating the marginal likelihood of the alternative hypothesis.\n",
    "\n",
    "Our _prior_ expectations about the relative increase must not be defined – or even contaminated – by the actual observations; otherwise we will simply see what we want to see. We must ask: if the parameter of the Poisson distribution for day $i$ were to increase from $\\lambda_i$ to $\\tilde\\lambda_i$, then what values could it have, and which would be more likely? (Afterwards we are going to test the assumptions we make here.) We don't expect that the new parameter is 10 times higher than the original, because we would have noticed already if 10 times more people had an infarction after a DST adjustment. A significant but plausible increase in the average AMI count would be around 20% for Monday (the first day when people need to wake up earlier), and 0% increase by Friday, expecting that the effect would taper off in a week.\n",
    "\n",
    "Therefore, we define our prior beliefs in the alternative model about the new parameter $\\tilde\\lambda_1$ with a probability distribution that has support over $(\\lambda_1; \\inf)$, and a mean of $1.2 \\lambda_1$. How do we choose the shape of the distribution? I ask my friend who's campaining for the alternative hypothesis:\n",
    "\n",
    "- _Me_: “So are you saying you would be much less surprised to see a 1% increase in the AMI count on Monday (compared to the trend) than a 20% increase?”\n",
    "- _Friend_: “No, of course not, 1% is nothing. I expect around 10-30 percent.”\n",
    "- _Me_: “But probably not so crazy like a +100% increase”\n",
    "- _Friend_: “Right.”\n",
    "- _Me_: “Thanks for your input, your expectations will be taken seriously.”\n",
    "\n",
    "So the prior on the Monday AMI count distributes its probability mass as such:\n",
    "\n",
    "![Prior Monday](prior_monday.svg)"
   ]
  },
  {
   "cell_type": "markdown",
   "metadata": {},
   "source": [
    "- _Friend_: “But hey, what about the other days?”\n",
    "- _Me_: “What about them? Do you expect that the DST change would affect those too?”\n",
    "- _Friend_: “Just lemme see the data and I will tell you so.”\n",
    "- _Me_: “Uh-uh, it doesn’t work that way. I apologize, but humans are notorious for being easily biased, and after having seen the data you would say a hypothesis that fits it _best_. Remember, we're not looking for a single parameter, but we’re calibrating our uncertain judgements. So, how long do you expect until the effect wears off?”\n",
    "- _Friend_: “For the sake of simplicity, we can assume that the effect wears off linearly, and it has no effect by Saturday, which is on the weekend anyhow.”\n",
    "- _Me_: “Alright. Fortunately, the infarction counts on neighboring days are independent (apart from exceptional cases, such as a world catastrophe), which means we can model them separately and just multiply the marginal likelihoods.\n",
    "($\\mathrm{Pr}[\\text{data} | H_1] =\n",
    "\\mathrm{Pr}[\\text{Mon} | H_1] \\,\\cdot\\,\\ldots\\,\\cdot\\,\\mathrm{Pr}[\\text{Fri} | H_1]$) The priors you described take these forms:\n",
    "\n",
    "![Priors Monday–Friday](prior_all.svg)\n",
    "\n",
    "“Note that as the trend changes from Monday to Friday, so does the minimum of our belief about the number of infarctions. And if a distribution is narrow, it is that much taller, so for visibility we can rescale them, resulting in the following:\n",
    "\n",
    "![Priors Monday–Friday, rescaled](prior_all_rescaled.svg)\n",
    "\n",
    "We get such a distribution if we shift a Gamma distribution by $\\lambda_1$:\n",
    "\n",
    "$$\n",
    "\\tilde\\lambda_1 \\sim \\lambda_1 + \\text{Gamma}(k=0.2\\lambda_1,\\, \\theta=1)\n",
    "$$"
   ]
  },
  {
   "cell_type": "markdown",
   "metadata": {},
   "source": [
    "## Code"
   ]
  },
  {
   "cell_type": "code",
   "execution_count": 1,
   "metadata": {},
   "outputs": [],
   "source": [
    "import logging\n",
    "from math import log, exp\n",
    "from collections import defaultdict\n",
    "from functools import lru_cache, reduce\n",
    "from operator import mul\n",
    "from typing import Union, List, Dict, Any\n",
    "\n",
    "import numpy as np\n",
    "import scipy.stats as st\n",
    "from scipy.stats import gamma, poisson # TODO delete.\n",
    "import matplotlib.pyplot as plt\n",
    "from tqdm import trange"
   ]
  },
  {
   "cell_type": "code",
   "execution_count": 2,
   "metadata": {},
   "outputs": [],
   "source": [
    "logger = logging.getLogger('BayesianScience')\n",
    "\n",
    "logger.setLevel(logging.DEBUG)"
   ]
  },
  {
   "cell_type": "markdown",
   "metadata": {},
   "source": [
    "## Models"
   ]
  },
  {
   "cell_type": "code",
   "execution_count": 3,
   "metadata": {},
   "outputs": [],
   "source": [
    "cached = lru_cache(maxsize=1)"
   ]
  },
  {
   "cell_type": "code",
   "execution_count": 4,
   "metadata": {},
   "outputs": [],
   "source": [
    "class MyObject(object):\n",
    "    def _update_dict(self, args):\n",
    "        self.__dict__.update({k:v for k,v in args.items() if k != 'self'})"
   ]
  },
  {
   "cell_type": "code",
   "execution_count": 5,
   "metadata": {},
   "outputs": [],
   "source": [
    "class AbsModel(MyObject):\n",
    "    def likelihood(self, obs):\n",
    "        \"\"\"P[obs] or P[obs | params]\"\"\"\n",
    "        raise NotImplementedError\n",
    "    \n",
    "    def unnormalized_likelihood(self, obs):\n",
    "        return self.likelihood(obs)\n",
    "    \n",
    "    def marginal_likelihood(self, obs):\n",
    "        return self.unnormalized_likelihood(obs)"
   ]
  },
  {
   "cell_type": "code",
   "execution_count": 6,
   "metadata": {},
   "outputs": [],
   "source": [
    "class AbsNonparametricModel(AbsModel):\n",
    "    def likelihood(self, obs):\n",
    "        \"\"\"P[obs]\"\"\"\n",
    "        raise NotImplementedError\n",
    "    \n",
    "    def marginal_likelihood(self, obs):\n",
    "        return self.unnormalized_likelihood(obs)"
   ]
  },
  {
   "cell_type": "code",
   "execution_count": 7,
   "metadata": {},
   "outputs": [],
   "source": [
    "class AbsBayesianModel(AbsModel):\n",
    "    \"\"\"Abstract class for a Bayesian model\"\"\"\n",
    "    \n",
    "    def prior(self):\n",
    "        \"\"\"P[params]\"\"\"\n",
    "        raise NotImplementedError\n",
    "    \n",
    "    def likelihood(self, obs):\n",
    "        raise NotImplementedError\n",
    "    \n",
    "    def unnormalized_likelihood(self, obs):\n",
    "        \"\"\"P[params, Obs = obs]\"\"\"\n",
    "        return self.prior() * self.likelihood(obs)\n",
    "    \n",
    "    def posterior(self, obs):\n",
    "        \"\"\"P[params | obs]\"\"\"\n",
    "        return self.unnormalized_likelihood(obs) / self.marginal_likelihood(obs)"
   ]
  },
  {
   "cell_type": "code",
   "execution_count": 8,
   "metadata": {},
   "outputs": [],
   "source": [
    "class AbsContinuousBayesianModel(AbsBayesianModel):\n",
    "    \"\"\"Abstract class for a Bayesian model with a single continuous parameter\"\"\"\n",
    "    \n",
    "    def __init__(self, param_space: np.ndarray):\n",
    "        \"\"\"Assumes uniformly spaced 1-dimensional linspace for param_space\"\"\"\n",
    "        assert len(param_space.shape) == 1\n",
    "        self.param_space = param_space\n",
    "        super().__init__()\n",
    "    \n",
    "    def marginal_likelihood(self, obs):\n",
    "        \"\"\"P[obs]\"\"\"\n",
    "        param_step = (self.param_space[-1] - self.param_space[0]) / (len(self.param_space) - 1)\n",
    "        return np.sum(self.unnormalized_likelihood(obs)) * param_step"
   ]
  },
  {
   "cell_type": "code",
   "execution_count": 9,
   "metadata": {},
   "outputs": [],
   "source": [
    "class PoissonModel(AbsNonparametricModel):\n",
    "    def __init__(self, param):\n",
    "        self.param = param\n",
    "        super().__init__()\n",
    "    \n",
    "    def marginal_likelihood(self, obs):\n",
    "        return st.poisson.pmf(obs, self.param)"
   ]
  },
  {
   "cell_type": "code",
   "execution_count": 10,
   "metadata": {},
   "outputs": [],
   "source": [
    "class BayesianPoissonModel(AbsContinuousBayesianModel):\n",
    "    \"\"\"Poisson model with a Gaussian prior on the parameter\"\"\"\n",
    "    def __init__(self, param_space, prior_loc, prior_scale, prior_shape=2.):\n",
    "        self._update_dict(locals())\n",
    "        super().__init__(param_space)\n",
    "    \n",
    "    def prior(self):\n",
    "        return gamma.pdf(self.param_space, a=self.prior_shape, loc=self.prior_loc, scale=self.prior_scale)\n",
    "    \n",
    "    def likelihood(self, obs):\n",
    "        return st.poisson.pmf(obs, self.param_space)"
   ]
  },
  {
   "cell_type": "code",
   "execution_count": 11,
   "metadata": {},
   "outputs": [],
   "source": [
    "class IndependentMultivarModel(AbsModel):\n",
    "    def __init__(self, models: Dict[Any, AbsModel]):\n",
    "        assert len(models) > 0\n",
    "        self._update_dict(locals())\n",
    "        super().__init__()\n",
    "        \n",
    "    def marginal_likelihood(self, obs: dict):\n",
    "        partial_marginal_likelihoods = {key: self.models[key].marginal_likelihood(obs[key])\n",
    "                                        for key in self.models}\n",
    "        \n",
    "        logger.debug(f\"Likelihoods of submodels: {partial_marginal_likelihoods}\")\n",
    "        \n",
    "        return exp(sum(log(p) for p in partial_marginal_likelihoods.values()))"
   ]
  },
  {
   "cell_type": "markdown",
   "metadata": {},
   "source": [
    "## Models for the DST analysis"
   ]
  },
  {
   "cell_type": "code",
   "execution_count": 12,
   "metadata": {},
   "outputs": [],
   "source": [
    "class NullHypothesis(IndependentMultivarModel):\n",
    "    \"\"\"The DST doesn't have any effect on AMI counts\n",
    "    \n",
    "    x_i ~ Poisson(λ=trend_counts[i]), i = 1..5 (Mon..Fri)\n",
    "    \"\"\"\n",
    "    \n",
    "    def __init__(self, trend_counts: Dict[str, float]):\n",
    "        models = {day: PoissonModel(trend_counts[day]) for day in WEEKDAYS}\n",
    "        super().__init__(models)"
   ]
  },
  {
   "cell_type": "code",
   "execution_count": 13,
   "metadata": {},
   "outputs": [],
   "source": [
    "class MondayHypothesis(IndependentMultivarModel):\n",
    "    \"\"\"The spring DST adjustment increases AMI counts only on the following Monday\n",
    "    \n",
    "    increased_count ~ Gamma(shape=2,\n",
    "                            loc=trend_counts[1],\n",
    "                            scale=expected_monday_increase * trend_counts[1])\n",
    "    x_1 ~ Poisson(λ=increased_count)\n",
    "    x_i ~ Poisson(λ=trend_counts[i]), i = 2..5 (Tue..Fri)\n",
    "    \"\"\"\n",
    "\n",
    "    def __init__(self, trend_counts: Dict[str, float], expected_monday_increase: float):    \n",
    "        monday_trend = trend_counts[\"Mon\"]\n",
    "        param_space = np.arange(int(0.7 * monday_trend), int(2.5 * monday_trend))\n",
    "        \n",
    "        models = {}\n",
    "        models[\"Mon\"] = BayesianPoissonModel(param_space = param_space,\n",
    "                                       prior_loc = monday_trend,\n",
    "                                       prior_scale = monday_trend * expected_monday_increase)\n",
    "        for day in WEEKDAYS[1:]:\n",
    "            models[day] = PoissonModel(trend_counts[day])\n",
    "            \n",
    "        super().__init__(models)"
   ]
  },
  {
   "cell_type": "code",
   "execution_count": 14,
   "metadata": {},
   "outputs": [],
   "source": [
    "DAYS_OF_WEEK = [\"Sun\", \"Mon\", \"Tue\", \"Wed\", \"Thu\", \"Fri\", \"Sat\"]\n",
    "WEEKDAYS = DAYS_OF_WEEK[1:6]"
   ]
  },
  {
   "cell_type": "code",
   "execution_count": 15,
   "metadata": {},
   "outputs": [],
   "source": [
    "class WeekdaysHypothesis(IndependentMultivarModel):\n",
    "    \"\"\"The spring DST adjustment increases AMI counts on all weekdays of the following week.\n",
    "    \n",
    "                          { expected_monday_increase       if  i = Mon\n",
    "    expected_increase_i = { ... (decreasing linearly)\n",
    "                          { .2 * expected_monday_increase  if  i = Fri\n",
    "    \n",
    "    increased_count_i ~ Gamma(shape=2.0 (by default),\n",
    "                            loc=trend_counts[i],\n",
    "                            scale=expected_monday_increase * trend_counts[1])\n",
    "    x_i ~ Poisson(λ=trend_counts[i])\n",
    "    \n",
    "    for i = Mon..Fri\n",
    "    \"\"\"\n",
    "\n",
    "    def __init__(self, trend_counts: Dict[str, float], expected_monday_increase: float):         \n",
    "        models = {}\n",
    "        for day, factor in zip(WEEKDAYS, np.linspace(1, 0, len(WEEKDAYS), endpoint=False)):            \n",
    "            trend = trend_counts[day]\n",
    "            param_space = np.arange(int(0.7 * trend), int(2.5 * trend))\n",
    "            expected_increase = expected_monday_increase * factor\n",
    "            \n",
    "            models[day] = BayesianPoissonModel(param_space = param_space,\n",
    "                                               prior_loc = trend,\n",
    "                                               prior_scale = trend * expected_increase)\n",
    "            \n",
    "        super().__init__(models)"
   ]
  },
  {
   "cell_type": "markdown",
   "metadata": {},
   "source": [
    "## Data"
   ]
  },
  {
   "cell_type": "code",
   "execution_count": 16,
   "metadata": {},
   "outputs": [],
   "source": [
    "marginal_likelihoods = defaultdict(dict)"
   ]
  },
  {
   "cell_type": "code",
   "execution_count": 17,
   "metadata": {},
   "outputs": [],
   "source": [
    "def parse_second_column(data_str):\n",
    "    return [float(line.split(\", \")[1]) for line in data_str.split(\"\\n\")]"
   ]
  },
  {
   "cell_type": "markdown",
   "metadata": {},
   "source": [
    "## Data from Sandhu2014"
   ]
  },
  {
   "cell_type": "markdown",
   "metadata": {},
   "source": [
    "As I was unable to obtain the data at [Blue Cross Blue Shield of Michigan](https://bmc2.org), I estimated the number of AMI cases from the chart in Figure 3. Access to data in the years since 2013 would allow me to validate the conclusions on a three times larger sample size."
   ]
  },
  {
   "cell_type": "code",
   "execution_count": 18,
   "metadata": {},
   "outputs": [],
   "source": [
    "PAPER_ID = \"Sandhu2014\""
   ]
  },
  {
   "cell_type": "markdown",
   "metadata": {},
   "source": [
    "Screenshot taken of figure and analyzed with [WebPlotDigitizer](https://apps.automeris.io/wpd/).\n",
    "\n",
    "Measurement error: 1 pixel, which is $150\\text{AMI}\\, /\\, (517-131)\\text{px} ≈ 0.4$ AMIs\n",
    "\n",
    "Figure 3 of Sandhu et al. (2014):\n",
    "![Figure 3 - AMI counts after 4 years of spring DST adjustment](Sandhu2014-Figure3-Spring.png)"
   ]
  },
  {
   "cell_type": "code",
   "execution_count": 19,
   "metadata": {},
   "outputs": [],
   "source": [
    "ami_obs_str = \"\"\"\\\n",
    "0.00, 108.00\n",
    "1.00, 170.00\n",
    "2.00, 125.33\n",
    "3.00, 122.00\n",
    "4.00, 116.67\n",
    "5.00, 116.67\n",
    "6.00, 114.00\\\n",
    "\"\"\"\n",
    "\n",
    "ami_obs = {day: round(count)\n",
    "           for day, count in zip(WEEKDAYS, parse_second_column(ami_obs_str)[1:6])}"
   ]
  },
  {
   "cell_type": "code",
   "execution_count": 20,
   "metadata": {},
   "outputs": [
    {
     "data": {
      "text/plain": [
       "[170, 125, 122, 117, 117]"
      ]
     },
     "execution_count": 20,
     "metadata": {},
     "output_type": "execute_result"
    }
   ],
   "source": [
    "list(ami_obs.values())"
   ]
  },
  {
   "cell_type": "code",
   "execution_count": 21,
   "metadata": {},
   "outputs": [
    {
     "data": {
      "text/plain": [
       "{'Mon': 170, 'Tue': 125, 'Wed': 122, 'Thu': 117, 'Fri': 117}"
      ]
     },
     "execution_count": 21,
     "metadata": {},
     "output_type": "execute_result"
    }
   ],
   "source": [
    "ami_obs"
   ]
  },
  {
   "cell_type": "code",
   "execution_count": 22,
   "metadata": {},
   "outputs": [],
   "source": [
    "ami_trend_str = \"\"\"\\\n",
    "0.00, 111.33\n",
    "1.00, 138.33\n",
    "2.00, 127.67\n",
    "3.00, 125.33\n",
    "4.00, 120.33\n",
    "5.00, 120.00\n",
    "6.00, 110.33\\\n",
    "\"\"\"\n",
    "\n",
    "ami_trend = parse_second_column(ami_trend_str)\n",
    "ami_trend = {day: count\n",
    "           for day, count in zip(WEEKDAYS, parse_second_column(ami_trend_str)[1:6])}"
   ]
  },
  {
   "cell_type": "code",
   "execution_count": 23,
   "metadata": {},
   "outputs": [
    {
     "data": {
      "text/plain": [
       "{'Mon': 138.33, 'Tue': 127.67, 'Wed': 125.33, 'Thu': 120.33, 'Fri': 120.0}"
      ]
     },
     "execution_count": 23,
     "metadata": {},
     "output_type": "execute_result"
    }
   ],
   "source": [
    "ami_trend"
   ]
  },
  {
   "cell_type": "code",
   "execution_count": 24,
   "metadata": {},
   "outputs": [
    {
     "data": {
      "text/plain": [
       "{'Mon': 170, 'Tue': 125, 'Wed': 122, 'Thu': 117, 'Fri': 117}"
      ]
     },
     "execution_count": 24,
     "metadata": {},
     "output_type": "execute_result"
    }
   ],
   "source": [
    "ami_obs"
   ]
  },
  {
   "cell_type": "code",
   "execution_count": 25,
   "metadata": {},
   "outputs": [],
   "source": [
    "def poisson_plot(ys, ys2, p=0.025, kw2={}, extra_code=\"\"):\n",
    "    yerr = np.vstack([[y - poisson.ppf(p, y) for y in ys.values()],\n",
    "                      [poisson.ppf(1-p, y) - y for y in ys.values()]])\n",
    "    \n",
    "    fig, ax = plt.subplots(1,1)\n",
    "    plt.errorbar(ys.keys(), ys.values(), yerr=yerr, fmt='o-',\n",
    "                 elinewidth=1,\n",
    "                 label='trend', lw=0.5)\n",
    "    plt.plot(ys2.keys(), ys2.values(), 'x-', c='orange', lw=0.5, **kw2)\n",
    "    ax.legend(loc='best', frameon=False)\n",
    "    plt.grid(True, axis='y', alpha=0.3)\n",
    "    exec(extra_code)\n",
    "    plt.show()\n",
    "    return fig"
   ]
  },
  {
   "cell_type": "code",
   "execution_count": 26,
   "metadata": {},
   "outputs": [],
   "source": [
    "logging.getLogger('matplotlib.axes._base').setLevel(logging.INFO)"
   ]
  },
  {
   "cell_type": "code",
   "execution_count": 27,
   "metadata": {},
   "outputs": [
    {
     "data": {
      "image/png": "[encoded data removed]",
      "text/plain": [
       "<Figure size 432x288 with 1 Axes>"
      ]
     },
     "metadata": {
      "needs_background": "light"
     },
     "output_type": "display_data"
    }
   ],
   "source": [
    "poisson_plot(ami_trend, ami_obs, kw2=dict(label='actual'),\n",
    "             extra_code=\"plt.title('Observed and trend values with 95% error bars')\");"
   ]
  },
  {
   "cell_type": "code",
   "execution_count": 28,
   "metadata": {},
   "outputs": [
    {
     "name": "stdout",
     "output_type": "stream",
     "text": [
      "Marginal likelihood of the null hypothesis (H0): 1.56e-09\n"
     ]
    }
   ],
   "source": [
    "H0 = NullHypothesis(ami_trend)\n",
    "M0 = H0.marginal_likelihood(ami_obs)\n",
    "print(\"Marginal likelihood of the null hypothesis (H0): {:.2e}\".format(M0))"
   ]
  },
  {
   "cell_type": "code",
   "execution_count": 29,
   "metadata": {},
   "outputs": [
    {
     "name": "stdout",
     "output_type": "stream",
     "text": [
      "Marginal likelihood of the “following Monday” hypothesis (H1): 1.79e-08\n"
     ]
    }
   ],
   "source": [
    "H1 = MondayHypothesis(ami_trend, 0.2)\n",
    "M1 = H1.marginal_likelihood(ami_obs)\n",
    "print(\"Marginal likelihood of the “following Monday” hypothesis (H1): {:.2e}\".format(M1))"
   ]
  },
  {
   "cell_type": "code",
   "execution_count": 30,
   "metadata": {},
   "outputs": [
    {
     "name": "stdout",
     "output_type": "stream",
     "text": [
      "Bayes factor for H1:  M0:M1 = 1:11.5 = 0.0873\n"
     ]
    }
   ],
   "source": [
    "B01 = M0 / M1\n",
    "\n",
    "print(f\"Bayes factor for H1:  M0:M1 = 1:{1/B01 :.1f} = {B01:.4f}\")"
   ]
  },
  {
   "cell_type": "code",
   "execution_count": 31,
   "metadata": {},
   "outputs": [
    {
     "name": "stdout",
     "output_type": "stream",
     "text": [
      "Marginal likelihood of the “following weekdays” hypothesis (H2): 9.01e-11\n"
     ]
    }
   ],
   "source": [
    "H2 = WeekdaysHypothesis(ami_trend, 0.2)\n",
    "M2 = H2.marginal_likelihood(ami_obs)\n",
    "print(\"Marginal likelihood of the “following weekdays” hypothesis (H2): {:.2e}\".format(M2))"
   ]
  },
  {
   "cell_type": "code",
   "execution_count": 32,
   "metadata": {},
   "outputs": [
    {
     "name": "stdout",
     "output_type": "stream",
     "text": [
      "Bayes factor for H2:  M0:M2 = 17.3 : 1\n"
     ]
    }
   ],
   "source": [
    "B02 = M0 / M2\n",
    "\n",
    "print(f\"Bayes factor for H2:  M0:M2 = {B02:.1f} : 1\")"
   ]
  },
  {
   "cell_type": "code",
   "execution_count": 33,
   "metadata": {},
   "outputs": [],
   "source": [
    "for hyp, ml in zip(['H0', 'H1', 'H2'], [M0, M1, M2]):\n",
    "    marginal_likelihoods[hyp][PAPER_ID] = ml"
   ]
  },
  {
   "cell_type": "markdown",
   "metadata": {},
   "source": [
    "## Sensitivity analysis"
   ]
  },
  {
   "cell_type": "markdown",
   "metadata": {},
   "source": [
    "TODO: evaluate how sensitive are the marginal likelihoods to the choice of prior."
   ]
  },
  {
   "cell_type": "markdown",
   "metadata": {},
   "source": [
    "## Plot the prior/likelihood/posterior for Monday"
   ]
  },
  {
   "cell_type": "code",
   "execution_count": 34,
   "metadata": {},
   "outputs": [
    {
     "data": {
      "image/png": "[encoded data removed]",
      "text/plain": [
       "<Figure size 432x288 with 1 Axes>"
      ]
     },
     "metadata": {
      "needs_background": "light"
     },
     "output_type": "display_data"
    }
   ],
   "source": [
    "expected_increase = 0.2\n",
    "p_min = ami_trend[\"Mon\"]\n",
    "p_spread = expected_increase * p_min\n",
    "a = 2 # shape parameter\n",
    "graph_max = p_min * 3\n",
    "xs = np.linspace(0, graph_max, 1000)\n",
    "plt.plot(xs, gamma.pdf(xs, a, loc=p_min, scale = p_spread),\n",
    "         '-', lw=5, alpha=0.6)\n",
    "plt.xticks([0, p_min, p_min + p_spread, 2 * p_min], [\"0\", \"λ$_1$\", \"    +20%\", \"+100%\"])\n",
    "plt.xlim(0, graph_max)\n",
    "plt.gca().set_ylim(bottom=0)\n",
    "plt.title(\"Prior on Monday's AMI count\")\n",
    "plt.savefig(\"prior_monday.svg\")\n",
    "plt.show()"
   ]
  },
  {
   "cell_type": "code",
   "execution_count": 35,
   "metadata": {},
   "outputs": [],
   "source": [
    "expected_monday_increase = 0.2"
   ]
  },
  {
   "cell_type": "code",
   "execution_count": 36,
   "metadata": {},
   "outputs": [
    {
     "data": {
      "image/png": "[encoded data removed]",
      "text/plain": [
       "<Figure size 432x288 with 1 Axes>"
      ]
     },
     "metadata": {
      "needs_background": "light"
     },
     "output_type": "display_data"
    }
   ],
   "source": [
    "a = 2 # shape parameter\n",
    "graph_max = ami_trend[\"Mon\"] * 3\n",
    "\n",
    "\n",
    "def f(dayname):\n",
    "    expected_increase = expected_monday_increase * (6 - WEEKDAYS.index(dayname)) / 5\n",
    "    p_min = ami_trend[dayname]\n",
    "    p_spread = expected_increase * p_min\n",
    "    xs = np.linspace(0, graph_max, 1000)\n",
    "    plt.plot(xs, gamma.pdf(xs, a, loc=p_min, scale = p_spread),\n",
    "             '-', lw=3, alpha=0.6, label=dayname)\n",
    "\n",
    "for dayname in WEEKDAYS:\n",
    "    f(dayname)\n",
    "    \n",
    "plt.xlim(0, graph_max)\n",
    "plt.gca().set_ylim(bottom=0)\n",
    "plt.gca().legend(loc='best', frameon=False)\n",
    "plt.title(\"Priors on daily AMI count\")\n",
    "plt.savefig(\"prior_all.svg\")\n",
    "plt.show()"
   ]
  },
  {
   "cell_type": "code",
   "execution_count": 37,
   "metadata": {},
   "outputs": [
    {
     "data": {
      "image/png": "[encoded data removed]",
      "text/plain": [
       "<Figure size 432x288 with 1 Axes>"
      ]
     },
     "metadata": {
      "needs_background": "light"
     },
     "output_type": "display_data"
    }
   ],
   "source": [
    "a = 2 # shape parameter\n",
    "graph_min = 90\n",
    "graph_max = ami_trend['Mon'] * 2.5\n",
    "    \n",
    "def f(dayname):\n",
    "    expected_increase = expected_monday_increase * (6 - WEEKDAYS.index(dayname)) / 5\n",
    "    p_min = ami_trend[dayname]\n",
    "    p_spread = expected_increase * p_min\n",
    "    xs = np.linspace(0, graph_max, 1000)\n",
    "    plt.plot(xs, gamma.pdf(xs, a, loc=p_min, scale = p_spread) * p_spread,\n",
    "             '-', lw=2, alpha=0.6, label=dayname)\n",
    "\n",
    "for dayname in WEEKDAYS:\n",
    "    f(dayname)\n",
    "    \n",
    "plt.xlim(graph_min, graph_max)\n",
    "plt.yticks([])\n",
    "plt.gca().set_ylim(bottom=0)\n",
    "plt.gca().legend(loc='best', frameon=False)\n",
    "plt.title(\"Priors on daily AMI count (rescaled for visibility)\")\n",
    "plt.savefig(\"prior_all_rescaled.svg\")\n",
    "plt.show()"
   ]
  },
  {
   "cell_type": "code",
   "execution_count": 38,
   "metadata": {},
   "outputs": [],
   "source": [
    "total_count = 42060\n",
    "total_days = 1354\n",
    "total_mean = total_count / total_days"
   ]
  },
  {
   "cell_type": "code",
   "execution_count": 39,
   "metadata": {},
   "outputs": [
    {
     "data": {
      "image/png": "[encoded data removed]",
      "text/plain": [
       "<Figure size 432x288 with 1 Axes>"
      ]
     },
     "metadata": {
      "needs_background": "light"
     },
     "output_type": "display_data"
    }
   ],
   "source": [
    "rv = poisson(total_mean)\n",
    "x = np.arange(rv.ppf(0.01), rv.ppf(0.99))\n",
    "fig, ax = plt.subplots(1, 1)\n",
    "ax.vlines(x, 0, rv.pmf(x), colors='k', linestyles='-', lw=1,\n",
    "          label='pmf')\n",
    "ax.legend(loc='best', frameon=False)\n",
    "ax.set_ylim(bottom=0.0)\n",
    "plt.show()"
   ]
  },
  {
   "cell_type": "code",
   "execution_count": 40,
   "metadata": {},
   "outputs": [
    {
     "data": {
      "image/png": "[encoded data removed]",
      "text/plain": [
       "<Figure size 432x288 with 1 Axes>"
      ]
     },
     "metadata": {
      "needs_background": "light"
     },
     "output_type": "display_data"
    }
   ],
   "source": [
    "np.random.seed(0)\n",
    "\n",
    "r = poisson(total_mean * total_days).rvs(10_000_000) / total_days\n",
    "plt.hist(r, bins=np.arange(30, 32, 0.01), density=True)\n",
    "plt.show()"
   ]
  }
 ],
 "metadata": {
  "kernelspec": {
   "display_name": "Python 3",
   "language": "python",
   "name": "python3"
  },
  "language_info": {
   "codemirror_mode": {
    "name": "ipython",
    "version": 3
   },
   "file_extension": ".py",
   "mimetype": "text/x-python",
   "name": "python",
   "nbconvert_exporter": "python",
   "pygments_lexer": "ipython3",
   "version": "3.7.3"
  },
  "varInspector": {
   "cols": {
    "lenName": 16,
    "lenType": 16,
    "lenVar": 40
   },
   "kernels_config": {
    "python": {
     "delete_cmd_postfix": "",
     "delete_cmd_prefix": "del ",
     "library": "var_list.py",
     "varRefreshCmd": "print(var_dic_list())"
    },
    "r": {
     "delete_cmd_postfix": ") ",
     "delete_cmd_prefix": "rm(",
     "library": "var_list.r",
     "varRefreshCmd": "cat(var_dic_list()) "
    }
   },
   "types_to_exclude": [
    "module",
    "function",
    "builtin_function_or_method",
    "instance",
    "_Feature"
   ],
   "window_display": false
  }
 },
 "nbformat": 4,
 "nbformat_minor": 2
}
