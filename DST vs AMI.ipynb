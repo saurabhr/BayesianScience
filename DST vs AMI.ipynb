{
 "cells": [
  {
   "cell_type": "markdown",
   "metadata": {},
   "source": [
    "# Bayesian analysis of the effects of Daylight Savings Time (DST) adjustment on the incidence rate of Acute Myocardinal Infarction (AMI)"
   ]
  },
  {
   "cell_type": "markdown",
   "metadata": {},
   "source": [
    "### Background\n",
    "\n",
    "Various papers and famous sleep researchers claim that the DST adjustment causes an increase in AMI count during the following days or weeks, attributing this increase to the reduction in sleep or the disturbance in the circadian rhythm.\n",
    "\n",
    "### Methods\n",
    "\n",
    "I believe this perceived increase is merely a statistical artifact resulting from low sample size and potentially publication bias, despite it being \"statistically significant\". This notebook investigates whether using Bayes factors with consistently and formally stated null and alternative hypotheses confirms the findings of the studies (which used frequentist hypothesis tests) and the meta-analysis (which combined the results using a \"random-effect generic inverse variance approach\", as described by the Cochrane Handbook).\n",
    "\n",
    "I have so far analyzed data from the following sources:\n",
    " - Sandhu et al. (2014) _Daylight savings time and myocardial infarction_. Open Heart. [link](https://www.ncbi.nlm.nih.gov/pmc/articles/PMC4189320/) (I chose this paper as it brought the issue to my attention.)\n",
    " - Kirchberger et al. 2015. _Are daylight saving time transitions associated with changes in myocardial infarction incidence? Results from the German MONICA/KORA Myocardial Infarction Registry_. BMC Public Health. 2015; 15: 778. [link](https://www.ncbi.nlm.nih.gov/pmc/articles/PMC4535383/) (I chose this paper randomly from Manfredini2019 -- see below.)\n",
    " \n",
    "I also plan to integrate evidence from all the papers mentioned in this meta-analysis:\n",
    " - Manfredini et al. (2019) _Daylight Saving Time and Acute Myocardial Infarction: A Meta-Analysis_. Journal of Clinical Medicine [link](https://www.ncbi.nlm.nih.gov/pmc/articles/PMC6463000/)\n",
    " \n",
    "### Motivation\n",
    "\n",
    "I fully acknowledge the role of adequate sleep, and I am undecided on the positive or negative effects of DST. However, I believe scientific reporting could use statistical methods that are both simpler, more explicit, less black-and-white, and more precise."
   ]
  },
  {
   "cell_type": "markdown",
   "metadata": {},
   "source": [
    "## Null hypothesis\n",
    "\n",
    "The null hypothesis assumes the observed data on day $i$ (with $i = 1,\\,\\ldots,\\,5$ for Monday, $\\ldots$, Friday) is sampled from a Poisson distribution with parameter $\\lambda_i$, with independent distributions for the 5 days. The likelihood of observed count $o_i$ is on day $i$ is\n",
    "\n",
    "$$\\mathbb P[o_i \\text{ AMIs on day } i\\ |\\ H_0] =\n",
    "e^{-\\lambda_i} \\frac{\\lambda_i^{o_i}}{o_i!},$$\n",
    "\n",
    "so the likelihood of all of the data under the null hypothesis is equal to the following:\n",
    "\n",
    "$$\\mathbb P[D | H_0] = \\prod_{i=1}^5 \\mathbb P[o_i \\text{ AMIs on day } i\\ |\\ H_0] =\n",
    "\\prod_{i=1}^5 e^{-\\lambda_i} \\frac{\\lambda_i^{o_i}}{o_i!}.$$"
   ]
  },
  {
   "cell_type": "markdown",
   "metadata": {},
   "source": [
    "## Alternative hypotheses\n",
    "\n",
    "We define two alternative hypotheses: $H_1$ is that on the Monday following DST adjustment, more AMIs happen than on a regular day. Under $H_2$, the expected AMI counts increase on all days from Monday until Friday.  But by how much, specifically?\n",
    "\n",
    "Note that the original paper did not make such estimations, because [null hypothesis significance tests](https://en.wikipedia.org/wiki/Student's_t-test#One-sample_t-test) do not require evaluating the marginal likelihood of the alternative hypothesis.\n",
    "\n",
    "Our _prior_ expectations about the relative increase must not be defined – or even contaminated – by the actual observations; otherwise we will simply see what we want to see. We must ask: if the parameter of the Poisson distribution for day $i$ were to increase from $\\lambda_i$ to $\\tilde\\lambda_i$, then what values could it have, and which would be more likely? (Afterwards we are going to test the assumptions we make here.) We don't expect that the new parameter is 10 times higher than the original, because we would have noticed already if 10 times more people had an infarction after a DST adjustment. A significant but plausible increase in the average AMI count would be around 20% for Monday (the first day when people need to wake up earlier), and 0% increase by Friday, expecting that the effect would taper off in a week.\n",
    "\n",
    "Therefore, we define our prior beliefs in the alternative model about the new parameter $\\tilde\\lambda_1$ with a probability distribution that has support over $(\\lambda_1; \\inf)$, and a mean of $1.2 \\lambda_1$. How do we choose the shape of the distribution? I ask my friend who's campaining for the alternative hypothesis:\n",
    "\n",
    "- _Me_: “So are you saying you would be much less surprised to see a 1% increase in the AMI count on Monday (compared to the trend) than a 20% increase?”\n",
    "- _Friend_: “No, of course not, 1% is nothing. I expect around 10-30 percent.”\n",
    "- _Me_: “But probably not so crazy like a +100% increase”\n",
    "- _Friend_: “Right.”\n",
    "- _Me_: “Thanks for your input, your expectations will be taken seriously.”\n",
    "\n",
    "So the prior on the Monday AMI count distributes its probability mass as such:\n",
    "\n",
    "![Prior Monday](prior_monday.svg)"
   ]
  },
  {
   "cell_type": "markdown",
   "metadata": {},
   "source": [
    "- _Friend_: “But hey, what about the other days?”\n",
    "- _Me_: “What about them? Do you expect that the DST change would affect those too?”\n",
    "- _Friend_: “Just lemme see the data and I will tell you so.”\n",
    "- _Me_: “Uh-uh, it doesn’t work that way. I apologize, but humans are notorious for being easily biased, and after having seen the data you would say a hypothesis that fits it _best_. Remember, we're not looking for a single parameter, but we’re calibrating our uncertain judgements. So, how long do you expect until the effect wears off?”\n",
    "- _Friend_: “For the sake of simplicity, we can assume that the effect wears off linearly, and it has no effect by Saturday, which is on the weekend anyhow.”\n",
    "- _Me_: “Alright. Fortunately, the infarction counts on neighboring days are independent (apart from exceptional cases, such as a world catastrophe), which means we can model them separately and just multiply the marginal likelihoods.\n",
    "($\\mathrm{Pr}[\\text{data} | H_1] =\n",
    "\\mathrm{Pr}[\\text{Mon} | H_1] \\,\\cdot\\,\\ldots\\,\\cdot\\,\\mathrm{Pr}[\\text{Fri} | H_1]$) The priors you described take these forms:\n",
    "\n",
    "![Priors Monday–Friday](prior_all.svg)\n",
    "\n",
    "“Note that as the trend changes from Monday to Friday, so does the minimum of our belief about the number of infarctions. And if a distribution is narrow, it is that much taller, so for visibility we can rescale them, resulting in the following:\n",
    "\n",
    "![Priors Monday–Friday, rescaled](prior_all_rescaled.svg)\n",
    "\n",
    "We get such a distribution if we shift a Gamma distribution by $\\lambda_1$:\n",
    "\n",
    "$$\n",
    "\\tilde\\lambda_1 \\sim \\lambda_1 + \\text{Gamma}(k=0.2\\lambda_1,\\, \\theta=1)\n",
    "$$"
   ]
  },
  {
   "cell_type": "markdown",
   "metadata": {},
   "source": [
    "## Code"
   ]
  },
  {
   "cell_type": "code",
   "execution_count": 1,
   "metadata": {},
   "outputs": [],
   "source": [
    "import logging\n",
    "from collections import defaultdict\n",
    "from typing import Union, List, Dict, Mapping, Any\n",
    "\n",
    "import matplotlib.pyplot as plt\n",
    "import numpy as np\n",
    "import scipy.stats as st\n",
    "from tqdm import trange\n",
    "\n",
    "from models import *\n",
    "from models_dst import *\n",
    "import utils"
   ]
  },
  {
   "cell_type": "code",
   "execution_count": 2,
   "metadata": {},
   "outputs": [],
   "source": [
    "logger = logging.getLogger('BayesianScience')\n",
    "\n",
    "logger.setLevel(logging.DEBUG)"
   ]
  },
  {
   "cell_type": "markdown",
   "metadata": {},
   "source": [
    "## Data"
   ]
  },
  {
   "cell_type": "code",
   "execution_count": 3,
   "metadata": {},
   "outputs": [],
   "source": [
    "marginal_likelihoods = defaultdict(dict)"
   ]
  },
  {
   "cell_type": "markdown",
   "metadata": {},
   "source": [
    "## Sandhu et al. (2014)"
   ]
  },
  {
   "cell_type": "code",
   "execution_count": 4,
   "metadata": {},
   "outputs": [],
   "source": [
    "PAPER_ID = \"Sandhu2014\""
   ]
  },
  {
   "cell_type": "markdown",
   "metadata": {},
   "source": [
    "Timeline: 1 January 2010 – 15 September 2013 (3 fall and 4 spring DST changes)\n",
    "\n",
    "> Procedural data for hospital admissions where PCI was performed in the setting of AMI between 1 January 2010 and 15 September 2013 were included in this analysis.\n",
    "\n",
    "> In this study, 42 060 hospital admissions for AMI requiring PCI occurred during the study period. Figure 1A provides a plot of the daily PCIs performed for AMI over 1354 days included in the study period. The median daily AMI total was 31, ranging from a minimum of 14 to a maximum of 53 admissions."
   ]
  },
  {
   "cell_type": "markdown",
   "metadata": {},
   "source": [
    "**Results**\n",
    "\n",
    "> There was no difference in the total weekly number of PCIs performed for AMI for either the fall or spring time changes in the time period analysed. After adjustment for trend and seasonal effects, the Monday following spring time changes was associated with a 24% increase in daily AMI counts (p=0.011), and the Tuesday following fall changes was conversely associated with a 21% reduction (p=0.044). No other weekdays in the weeks following DST changes demonstrated significant associations."
   ]
  },
  {
   "cell_type": "markdown",
   "metadata": {},
   "source": [
    "As I was unable to obtain the data at [Blue Cross Blue Shield of Michigan](https://bmc2.org), I estimated the number of AMI cases from the chart in Figure 3. Access to data in the years since 2013 would allow me to validate the conclusions on a three times larger sample size."
   ]
  },
  {
   "cell_type": "markdown",
   "metadata": {},
   "source": [
    "Screenshot taken of figure and analyzed with [WebPlotDigitizer](https://apps.automeris.io/wpd/).\n",
    "\n",
    "Measurement error: 1 pixel, which is $150\\text{AMI}\\, /\\, (517-131)\\text{px} ≈ 0.4$ AMIs\n",
    "\n",
    "Figure 3 of Sandhu et al. (2014):\n",
    "![Figure 3 - AMI counts after 4 years of spring DST adjustment](Sandhu2014-Figure3-Spring.png)"
   ]
  },
  {
   "cell_type": "code",
   "execution_count": 5,
   "metadata": {},
   "outputs": [],
   "source": [
    "ami_obs_str = \"\"\"\\\n",
    "0.00, 108.00\n",
    "1.00, 170.00\n",
    "2.00, 125.33\n",
    "3.00, 122.00\n",
    "4.00, 116.67\n",
    "5.00, 116.67\n",
    "6.00, 114.00\\\n",
    "\"\"\"\n",
    "\n",
    "ami_obs = {day: round(count)\n",
    "           for day, count in zip(WEEKDAYS, utils.parse_second_column(ami_obs_str)[1:6])}"
   ]
  },
  {
   "cell_type": "code",
   "execution_count": 6,
   "metadata": {},
   "outputs": [
    {
     "data": {
      "text/plain": [
       "[170, 125, 122, 117, 117]"
      ]
     },
     "execution_count": 6,
     "metadata": {},
     "output_type": "execute_result"
    }
   ],
   "source": [
    "list(ami_obs.values())"
   ]
  },
  {
   "cell_type": "code",
   "execution_count": 7,
   "metadata": {},
   "outputs": [
    {
     "data": {
      "text/plain": [
       "{'Mon': 170, 'Tue': 125, 'Wed': 122, 'Thu': 117, 'Fri': 117}"
      ]
     },
     "execution_count": 7,
     "metadata": {},
     "output_type": "execute_result"
    }
   ],
   "source": [
    "ami_obs"
   ]
  },
  {
   "cell_type": "code",
   "execution_count": 8,
   "metadata": {},
   "outputs": [],
   "source": [
    "ami_trend_str = \"\"\"\\\n",
    "0.00, 111.33\n",
    "1.00, 138.33\n",
    "2.00, 127.67\n",
    "3.00, 125.33\n",
    "4.00, 120.33\n",
    "5.00, 120.00\n",
    "6.00, 110.33\\\n",
    "\"\"\"\n",
    "\n",
    "ami_trend = utils.parse_second_column(ami_trend_str)\n",
    "ami_trend = {day: count\n",
    "           for day, count in zip(WEEKDAYS, utils.parse_second_column(ami_trend_str)[1:6])}"
   ]
  },
  {
   "cell_type": "code",
   "execution_count": 9,
   "metadata": {},
   "outputs": [
    {
     "data": {
      "text/plain": [
       "{'Mon': 138.33, 'Tue': 127.67, 'Wed': 125.33, 'Thu': 120.33, 'Fri': 120.0}"
      ]
     },
     "execution_count": 9,
     "metadata": {},
     "output_type": "execute_result"
    }
   ],
   "source": [
    "ami_trend"
   ]
  },
  {
   "cell_type": "code",
   "execution_count": 10,
   "metadata": {},
   "outputs": [
    {
     "data": {
      "text/plain": [
       "{'Mon': 170, 'Tue': 125, 'Wed': 122, 'Thu': 117, 'Fri': 117}"
      ]
     },
     "execution_count": 10,
     "metadata": {},
     "output_type": "execute_result"
    }
   ],
   "source": [
    "ami_obs"
   ]
  },
  {
   "cell_type": "code",
   "execution_count": 11,
   "metadata": {},
   "outputs": [],
   "source": [
    "logging.getLogger('matplotlib.axes._base').setLevel(logging.INFO)"
   ]
  },
  {
   "cell_type": "code",
   "execution_count": 12,
   "metadata": {},
   "outputs": [
    {
     "data": {
      "image/png": "[encoded data removed]",
      "text/plain": [
       "<Figure size 432x288 with 1 Axes>"
      ]
     },
     "metadata": {
      "needs_background": "light"
     },
     "output_type": "display_data"
    }
   ],
   "source": [
    "utils.poisson_plot(ami_trend, ami_obs, kw2=dict(label='actual'),\n",
    "                   extra_code=\"plt.title('Observed and trend values with 95% error bars')\");"
   ]
  },
  {
   "cell_type": "code",
   "execution_count": 13,
   "metadata": {},
   "outputs": [
    {
     "name": "stdout",
     "output_type": "stream",
     "text": [
      "Marginal likelihood of the null hypothesis (H0): 1.56e-09\n"
     ]
    }
   ],
   "source": [
    "H0 = NullHypothesis(ami_trend)\n",
    "M0 = H0.marginal_likelihood(ami_obs)\n",
    "print(\"Marginal likelihood of the null hypothesis (H0): {:.2e}\".format(M0))"
   ]
  },
  {
   "cell_type": "code",
   "execution_count": 14,
   "metadata": {},
   "outputs": [
    {
     "name": "stdout",
     "output_type": "stream",
     "text": [
      "Marginal likelihood of the “following Monday” hypothesis (H1): 1.79e-08\n"
     ]
    }
   ],
   "source": [
    "H1 = MondayHypothesis(ami_trend, 0.2)\n",
    "M1 = H1.marginal_likelihood(ami_obs)\n",
    "print(\"Marginal likelihood of the “following Monday” hypothesis (H1): {:.2e}\".format(M1))"
   ]
  },
  {
   "cell_type": "code",
   "execution_count": 15,
   "metadata": {},
   "outputs": [
    {
     "name": "stdout",
     "output_type": "stream",
     "text": [
      "Bayes factor for H1:  M0:M1 = 1:11.5 = 0.0873\n"
     ]
    }
   ],
   "source": [
    "B01 = M0 / M1\n",
    "\n",
    "print(f\"Bayes factor for H1:  M0:M1 = 1:{1/B01 :.1f} = {B01:.4f}\")"
   ]
  },
  {
   "cell_type": "code",
   "execution_count": 16,
   "metadata": {},
   "outputs": [
    {
     "name": "stdout",
     "output_type": "stream",
     "text": [
      "Marginal likelihood of the “following weekdays” hypothesis (H2): 9.01e-11\n"
     ]
    }
   ],
   "source": [
    "H2 = WeekdaysHypothesis(ami_trend, 0.2)\n",
    "M2 = H2.marginal_likelihood(ami_obs)\n",
    "print(\"Marginal likelihood of the “following weekdays” hypothesis (H2): {:.2e}\".format(M2))"
   ]
  },
  {
   "cell_type": "code",
   "execution_count": 17,
   "metadata": {},
   "outputs": [
    {
     "name": "stdout",
     "output_type": "stream",
     "text": [
      "Bayes factor for H2:  M0:M2 = 17.3 : 1\n"
     ]
    }
   ],
   "source": [
    "B02 = M0 / M2\n",
    "\n",
    "print(f\"Bayes factor for H2:  M0:M2 = {B02:.1f} : 1\")"
   ]
  },
  {
   "cell_type": "code",
   "execution_count": 18,
   "metadata": {},
   "outputs": [],
   "source": [
    "for hyp, ml in zip(['H0', 'H1', 'H2'], [M0, M1, M2]):\n",
    "    marginal_likelihoods[hyp][PAPER_ID] = ml"
   ]
  },
  {
   "cell_type": "markdown",
   "metadata": {},
   "source": [
    "# Kirchberger et al."
   ]
  },
  {
   "cell_type": "code",
   "execution_count": 19,
   "metadata": {},
   "outputs": [],
   "source": [
    "PAPER_ID = \"Kirchberger2015\""
   ]
  },
  {
   "cell_type": "markdown",
   "metadata": {},
   "source": [
    "Kirchberger et al. 2015. _Are daylight saving time transitions associated with changes in myocardial infarction incidence? Results from the German MONICA/KORA Myocardial Infarction Registry_. BMC Public Health. 2015; 15: 778. [link](https://www.ncbi.nlm.nih.gov/pmc/articles/PMC4535383/)"
   ]
  },
  {
   "cell_type": "markdown",
   "metadata": {},
   "source": [
    "**Data**:\n",
    "- AMI count: 25,499 cases of AMI\n",
    "- data source: MONICA/KORA Myocardial Infarction Registry ([link](https://www.helmholtz-muenchen.de/herzschlag-info/); public data should be published yearly according to [this website](http://www.gbe-bund.de/gbe10/abrechnung.prc_abr_test_logon?p_uid=gast&p_aid=0&p_knoten=FID&p_sprache=E&p_suchstring=7014), but I did not find a link to download the dataset) \n",
    "- time period: 1 January 1985 and 31 October 2010 (26 spring and 25 fall DST changes – 2010 fall adjustment was on 31 October)\n",
    "- ages: 25–74\n",
    "- includes: coronary death and AMI\n",
    "- location: city of Augsburg (Germany) and the two adjacent counties (about 600,000 inhabitants)\n",
    "- additional variables: information on re-infarction, various medication prior to AMI, current occupation, history of hypertension, hyperlipidemia, diabetes, smoking, and obesity.\n",
    "- confounders accounted for: global time trend, temperature, relative humidity, barometric pressure, and indicators for month of the year, weekday and holiday\n",
    "\n",
    "> The final model included the following covariates: time trend and previous two day mean relative humidity as regression splines with four and two degrees of freedom, respectively, previous two day mean temperature as a linear term and day of the week as categorical variable.\n",
    "\n",
    "> The optimized spring model [of the data from March and April, excluding the week in question] included time trend and same day mean relative humidity as regression splines with six and three degrees of freedom.\n",
    "\n",
    "Six d.o.f. for 2 months is probably overfitting the data, even though it was the sum of 26 years. However, it shouldn’t make a predictible effect, and overall it likely had a negligible effect.\n",
    "\n",
    "> The incidence rate ratio was assessed as observed over expected events per day and the mean per weekday and corresponding 95% confidence intervals were calculated.\n",
    "\n",
    "However, it is not stated how the confidence intervals were calculated. It most likely wasn't a Bayesian _credible interval_ because they didn't specify the priors; so then the exact statistical test  confidence intervals would require"
   ]
  },
  {
   "cell_type": "code",
   "execution_count": 20,
   "metadata": {},
   "outputs": [
    {
     "name": "stdout",
     "output_type": "stream",
     "text": [
      "On average: 2.70 AMI/day (stdev for the 25-year-average: 0.02)\n"
     ]
    }
   ],
   "source": [
    "total_ami = 25_499\n",
    "total_days = 9435\n",
    "ami_per_day = total_ami / total_days\n",
    "print(\"On average: {:.2f} AMI/day (stdev for the 25-year-average: {:.2f})\".format(\n",
    "            ami_per_day,\n",
    "            st.poisson(total_ami).std() / total_days,\n",
    "            st.poisson(ami_per_day).std()))"
   ]
  },
  {
   "cell_type": "markdown",
   "metadata": {},
   "source": [
    "Assuming the researchers analyzed the data in an honest manner (i.e. not picking model parameters for lower prediction and more significant observed increase), and that the model didn't predict large deviations from the 2.7 AMI/day average, we can calculate Bayes factors using only the mean incidence ratios."
   ]
  },
  {
   "cell_type": "code",
   "execution_count": 21,
   "metadata": {},
   "outputs": [],
   "source": [
    "data_table_3_raw = \"\"\"\\\n",
    "\tSpring predicition model \tAutumn predicition model\n",
    "Weekday\tIRR [95 % CI]\tIRR [95 % CI]\n",
    "Sunday\t0.937 [0.732; 1.141]\t0.881 [0.667; 1.095]\n",
    "Monday\t1.207 [0.915; 1.500]\t0.850 [0.572; 1.129]\n",
    "Tuesday\t1.185 [0.852; 1.519]\t1.135 [0.861; 1.409]\n",
    "Wednesday\t1.075 [0.854; 1.297]\t1.077 [0.832; 1.321]\n",
    "Thursday\t1.098 [0.809; 1.388]\t1.133 [0.883; 1.383]\n",
    "Friday\t1.203 [0.950; 1.457]\t1.244 [1.035; 1.453]\n",
    "Saturday\t0.850 [0.657; 1.043]\t0.892 [0.657; 1.127]\\\n",
    "\"\"\""
   ]
  },
  {
   "cell_type": "code",
   "execution_count": 22,
   "metadata": {},
   "outputs": [],
   "source": [
    "mean_irr_spring = {}\n",
    "mean_irr_autumn = {}\n",
    "\n",
    "for line in data_table_3_raw.split('\\n')[2:]:\n",
    "    day_raw, spring_raw, autumn_raw = line.split('\\t')\n",
    "    \n",
    "    day = day_raw[:3]\n",
    "    f = lambda s: float(s.split(' ')[0])\n",
    "    spring, autumn = map(f, (spring_raw, autumn_raw))\n",
    "    mean_irr_spring[day] = spring\n",
    "    mean_irr_autumn[day] = autumn"
   ]
  },
  {
   "cell_type": "code",
   "execution_count": 23,
   "metadata": {
    "scrolled": true
   },
   "outputs": [
    {
     "data": {
      "text/plain": [
       "{'Sun': 0.937,\n",
       " 'Mon': 1.207,\n",
       " 'Tue': 1.185,\n",
       " 'Wed': 1.075,\n",
       " 'Thu': 1.098,\n",
       " 'Fri': 1.203,\n",
       " 'Sat': 0.85}"
      ]
     },
     "execution_count": 23,
     "metadata": {},
     "output_type": "execute_result"
    }
   ],
   "source": [
    "mean_irr_spring"
   ]
  },
  {
   "cell_type": "markdown",
   "metadata": {},
   "source": [
    "Over 26 springs this adds up to:"
   ]
  },
  {
   "cell_type": "code",
   "execution_count": 24,
   "metadata": {},
   "outputs": [],
   "source": [
    "year_count = 26"
   ]
  },
  {
   "cell_type": "code",
   "execution_count": 25,
   "metadata": {},
   "outputs": [],
   "source": [
    "ami_trend = {day: ami_per_day * year_count for day in WEEKDAYS}\n",
    "ami_obs = {day: round(ami_trend[day] * mean_irr_spring[day]) for day in WEEKDAYS}"
   ]
  },
  {
   "cell_type": "code",
   "execution_count": 26,
   "metadata": {},
   "outputs": [
    {
     "data": {
      "image/png": "[encoded data removed]",
      "text/plain": [
       "<Figure size 432x288 with 1 Axes>"
      ]
     },
     "metadata": {
      "needs_background": "light"
     },
     "output_type": "display_data"
    }
   ],
   "source": [
    "utils.poisson_plot(ami_trend, ami_obs, kw2=dict(label='actual'),\n",
    "                   extra_code=\"plt.title('Observed and trend values with 95% error bars')\");"
   ]
  },
  {
   "cell_type": "code",
   "execution_count": 27,
   "metadata": {
    "scrolled": true
   },
   "outputs": [
    {
     "name": "stdout",
     "output_type": "stream",
     "text": [
      "Marginal likelihood of the null hypothesis (H0): 1.84e-09\n"
     ]
    }
   ],
   "source": [
    "H0 = NullHypothesis(ami_trend)\n",
    "M0 = H0.marginal_likelihood(ami_obs)\n",
    "print(\"Marginal likelihood of the null hypothesis (H0): {:.2e}\".format(M0))"
   ]
  },
  {
   "cell_type": "code",
   "execution_count": 28,
   "metadata": {},
   "outputs": [
    {
     "name": "stdout",
     "output_type": "stream",
     "text": [
      "Marginal likelihood of the “following Monday” hypothesis (H1): 3.86e-09\n"
     ]
    }
   ],
   "source": [
    "H1 = MondayHypothesis(ami_trend, 0.2)\n",
    "M1 = H1.marginal_likelihood(ami_obs)\n",
    "print(\"Marginal likelihood of the “following Monday” hypothesis (H1): {:.2e}\".format(M1))"
   ]
  },
  {
   "cell_type": "code",
   "execution_count": 29,
   "metadata": {},
   "outputs": [
    {
     "name": "stdout",
     "output_type": "stream",
     "text": [
      "Bayes factor for H1:  M0:M1 = 1:2.1 = 0.4774\n"
     ]
    }
   ],
   "source": [
    "B01 = M0 / M1\n",
    "\n",
    "print(f\"Bayes factor for H1:  M0:M1 = 1:{1/B01 :.1f} = {B01:.4f}\")"
   ]
  },
  {
   "cell_type": "code",
   "execution_count": 30,
   "metadata": {},
   "outputs": [
    {
     "name": "stdout",
     "output_type": "stream",
     "text": [
      "Marginal likelihood of the “following weekdays” hypothesis (H2): 1.17e-08\n"
     ]
    }
   ],
   "source": [
    "H2 = WeekdaysHypothesis(ami_trend, 0.2)\n",
    "M2 = H2.marginal_likelihood(ami_obs)\n",
    "print(\"Marginal likelihood of the “following weekdays” hypothesis (H2): {:.2e}\".format(M2))"
   ]
  },
  {
   "cell_type": "code",
   "execution_count": 31,
   "metadata": {},
   "outputs": [],
   "source": [
    "def str_ratio(ratio):\n",
    "    if ratio > 1:\n",
    "        return f\"{ratio:.1f} : 1\"\n",
    "    else:\n",
    "        return f\"1 : {1/ratio:.1f}\""
   ]
  },
  {
   "cell_type": "code",
   "execution_count": 32,
   "metadata": {},
   "outputs": [
    {
     "name": "stdout",
     "output_type": "stream",
     "text": [
      "Bayes factor for H2:  M0:M2 = 1 : 6.4\n"
     ]
    }
   ],
   "source": [
    "B02 = M0 / M2\n",
    "\n",
    "print(\"Bayes factor for H2:  M0:M2 =\", str_ratio(B02))"
   ]
  },
  {
   "cell_type": "code",
   "execution_count": 33,
   "metadata": {},
   "outputs": [],
   "source": [
    "for hyp, ml in zip(['H0', 'H1', 'H2'], [M0, M1, M2]):\n",
    "    marginal_likelihoods[hyp][PAPER_ID] = ml"
   ]
  },
  {
   "cell_type": "markdown",
   "metadata": {},
   "source": [
    "## Aggregating evidence"
   ]
  },
  {
   "cell_type": "code",
   "execution_count": 34,
   "metadata": {},
   "outputs": [],
   "source": [
    "def f(marginal_likelihoods: Mapping[str, Mapping[str, float]], h_null: str, h_alt: str):\n",
    "    papers_both = [paper\n",
    "                   for paper in marginal_likelihoods[h_null]\n",
    "                   if paper in marginal_likelihoods[h_alt]]\n",
    "    \n",
    "    if not papers_both:\n",
    "        print(f\"No papers found that calculated evidence for both {h_null} and {h_alt}\")\n",
    "        return\n",
    "    \n",
    "    ml_null, ml_alt = 1., 1.\n",
    "    for paper in papers_both:\n",
    "        ml_null *= marginal_likelihoods[h_null][paper] \n",
    "        ml_alt *= marginal_likelihoods[h_alt][paper]\n",
    "    \n",
    "    if len(papers_both) == 1:\n",
    "        print(\"Based on the evidence from the \" + papers_both[0] + \" paper,\")\n",
    "    else:\n",
    "        print(\"Based on the combined evidence from the \" + \" and \".join(papers_both) + \" papers,\")\n",
    "\n",
    "    print(\" the Bayes factor for {} vs {} is {}\".format(\n",
    "            h_null, h_alt,\n",
    "            str_ratio(ml_null/ml_alt)))"
   ]
  },
  {
   "cell_type": "code",
   "execution_count": 35,
   "metadata": {},
   "outputs": [
    {
     "name": "stdout",
     "output_type": "stream",
     "text": [
      "Based on the combined evidence from the Sandhu2014 and Kirchberger2015 papers,\n",
      " the Bayes factor for H0 vs H1 is 1 : 24.0\n"
     ]
    }
   ],
   "source": [
    "f(marginal_likelihoods, \"H0\", \"H1\")"
   ]
  },
  {
   "cell_type": "code",
   "execution_count": 36,
   "metadata": {},
   "outputs": [
    {
     "name": "stdout",
     "output_type": "stream",
     "text": [
      "Based on the combined evidence from the Sandhu2014 and Kirchberger2015 papers,\n",
      " the Bayes factor for H0 vs H2 is 2.7 : 1\n"
     ]
    }
   ],
   "source": [
    "f(marginal_likelihoods, \"H0\", \"H2\")"
   ]
  },
  {
   "cell_type": "markdown",
   "metadata": {},
   "source": [
    "## Sensitivity analysis"
   ]
  },
  {
   "cell_type": "markdown",
   "metadata": {},
   "source": [
    "TODO: evaluate how sensitive are the marginal likelihoods to the choice of prior."
   ]
  },
  {
   "cell_type": "markdown",
   "metadata": {},
   "source": [
    "## Further questions\n",
    "\n",
    "**Q1.** What are the odds that there is a number of days that will have p-value less than 0.05?\n",
    "\n",
    "The fact that every study has a separate time frame for their hypothesis, e.g. the 3/4/7/14/28 days following DST adjustment suggests that these hypotheses were made after the fact, not inspired by previous research.\n",
    "\n",
    "Kirchberger2015:\n",
    "> Overall, no significant changes of AMI risk during the first 3 days or 1 week after the transition to and from DST were found.\n",
    "\n",
    "**Q2.** What are the odds that there will be a particular variable which makes it stick out like a sore thumb (just by random chance)? It's a function of the size of those strata: the smaller the stratum, the more likely there is an outlier. \n",
    "\n",
    "Kirchberger2015 (emphasis mine):\n",
    "> However, subgroup analyses on the spring transition revealed significantly increased risks for men in the first 3 days after transition (RR 1.155, 95 % CI 1.000–1.334) and for persons who **took angiotensine converting enzyme (ACE) inhibitors** prior to the AMI (3 days: RR 1.489, 95 % CI 1.151–1.927; 1 week: RR 1.297, 95 % CI 1.063–1.582). After the clock shift in autumn, patients with a prior infarction had an increased risk to have a re-infarction (3 days: RR 1.319, 95 % CI 1.029–1.691; 1 week: RR 1.270, 95 % CI 1.048–1.539).\n"
   ]
  }
 ],
 "metadata": {
  "kernelspec": {
   "display_name": "Python 3",
   "language": "python",
   "name": "python3"
  },
  "language_info": {
   "codemirror_mode": {
    "name": "ipython",
    "version": 3
   },
   "file_extension": ".py",
   "mimetype": "text/x-python",
   "name": "python",
   "nbconvert_exporter": "python",
   "pygments_lexer": "ipython3",
   "version": "3.7.3"
  },
  "varInspector": {
   "cols": {
    "lenName": 16,
    "lenType": 16,
    "lenVar": 40
   },
   "kernels_config": {
    "python": {
     "delete_cmd_postfix": "",
     "delete_cmd_prefix": "del ",
     "library": "var_list.py",
     "varRefreshCmd": "print(var_dic_list())"
    },
    "r": {
     "delete_cmd_postfix": ") ",
     "delete_cmd_prefix": "rm(",
     "library": "var_list.r",
     "varRefreshCmd": "cat(var_dic_list()) "
    }
   },
   "types_to_exclude": [
    "module",
    "function",
    "builtin_function_or_method",
    "instance",
    "_Feature"
   ],
   "window_display": false
  }
 },
 "nbformat": 4,
 "nbformat_minor": 2
}
